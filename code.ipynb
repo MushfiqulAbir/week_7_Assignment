{
 "cells": [
  {
   "cell_type": "code",
   "execution_count": 1,
   "id": "35d130b1",
   "metadata": {},
   "outputs": [
    {
     "data": {
      "text/html": [
       "<div>\n",
       "<style scoped>\n",
       "    .dataframe tbody tr th:only-of-type {\n",
       "        vertical-align: middle;\n",
       "    }\n",
       "\n",
       "    .dataframe tbody tr th {\n",
       "        vertical-align: top;\n",
       "    }\n",
       "\n",
       "    .dataframe thead th {\n",
       "        text-align: right;\n",
       "    }\n",
       "</style>\n",
       "<table border=\"1\" class=\"dataframe\">\n",
       "  <thead>\n",
       "    <tr style=\"text-align: right;\">\n",
       "      <th></th>\n",
       "      <th>User</th>\n",
       "      <th>Spider-Man: No Way Home</th>\n",
       "      <th>Black Widow</th>\n",
       "      <th>No Time to Die</th>\n",
       "      <th>Dune</th>\n",
       "      <th>Candyman</th>\n",
       "    </tr>\n",
       "  </thead>\n",
       "  <tbody>\n",
       "    <tr>\n",
       "      <th>0</th>\n",
       "      <td>Kassandra</td>\n",
       "      <td>4.5</td>\n",
       "      <td>NaN</td>\n",
       "      <td>4.5</td>\n",
       "      <td>4.0</td>\n",
       "      <td>4.5</td>\n",
       "    </tr>\n",
       "    <tr>\n",
       "      <th>1</th>\n",
       "      <td>Nicole</td>\n",
       "      <td>5.0</td>\n",
       "      <td>4.5</td>\n",
       "      <td>NaN</td>\n",
       "      <td>5.0</td>\n",
       "      <td>4.5</td>\n",
       "    </tr>\n",
       "    <tr>\n",
       "      <th>2</th>\n",
       "      <td>Lorena</td>\n",
       "      <td>4.0</td>\n",
       "      <td>4.0</td>\n",
       "      <td>3.5</td>\n",
       "      <td>NaN</td>\n",
       "      <td>5.0</td>\n",
       "    </tr>\n",
       "    <tr>\n",
       "      <th>3</th>\n",
       "      <td>Erika</td>\n",
       "      <td>NaN</td>\n",
       "      <td>5.0</td>\n",
       "      <td>5.0</td>\n",
       "      <td>4.5</td>\n",
       "      <td>4.0</td>\n",
       "    </tr>\n",
       "    <tr>\n",
       "      <th>4</th>\n",
       "      <td>James</td>\n",
       "      <td>4.5</td>\n",
       "      <td>4.5</td>\n",
       "      <td>4.0</td>\n",
       "      <td>4.5</td>\n",
       "      <td>NaN</td>\n",
       "    </tr>\n",
       "  </tbody>\n",
       "</table>\n",
       "</div>"
      ],
      "text/plain": [
       "        User  Spider-Man: No Way Home  Black Widow  No Time to Die  Dune  \\\n",
       "0  Kassandra                      4.5          NaN             4.5   4.0   \n",
       "1     Nicole                      5.0          4.5             NaN   5.0   \n",
       "2     Lorena                      4.0          4.0             3.5   NaN   \n",
       "3      Erika                      NaN          5.0             5.0   4.5   \n",
       "4      James                      4.5          4.5             4.0   4.5   \n",
       "\n",
       "   Candyman  \n",
       "0       4.5  \n",
       "1       4.5  \n",
       "2       5.0  \n",
       "3       4.0  \n",
       "4       NaN  "
      ]
     },
     "execution_count": 1,
     "metadata": {},
     "output_type": "execute_result"
    }
   ],
   "source": [
    "\n",
    "import pandas as pd\n",
    "import numpy as np\n",
    "\n",
    "data = pd.read_csv('Movie Ratings.csv')\n",
    "data.rename( columns={'Unnamed: 0':'User'}, inplace=True )\n",
    "\n",
    "data\n",
    "\n"
   ]
  },
  {
   "cell_type": "code",
   "execution_count": 2,
   "id": "18463d2e",
   "metadata": {},
   "outputs": [
    {
     "name": "stderr",
     "output_type": "stream",
     "text": [
      "C:\\Users\\13472\\AppData\\Local\\Temp/ipykernel_16156/70686235.py:2: FutureWarning: Dropping of nuisance columns in DataFrame reductions (with 'numeric_only=None') is deprecated; in a future version this will raise TypeError.  Select only valid columns before calling the reduction.\n",
      "  avgMovie = data.mean(axis='index')\n"
     ]
    },
    {
     "data": {
      "text/plain": [
       "Spider-Man: No Way Home    4.50\n",
       "Black Widow                4.50\n",
       "No Time to Die             4.25\n",
       "Dune                       4.50\n",
       "Candyman                   4.50\n",
       "dtype: float64"
      ]
     },
     "execution_count": 2,
     "metadata": {},
     "output_type": "execute_result"
    }
   ],
   "source": [
    "#Calculation average rating for all the movies\n",
    "avgMovie = data.mean(axis='index')\n",
    "avgMovie"
   ]
  },
  {
   "cell_type": "code",
   "execution_count": 3,
   "id": "b27ea1db",
   "metadata": {},
   "outputs": [
    {
     "name": "stderr",
     "output_type": "stream",
     "text": [
      "C:\\Users\\13472\\AppData\\Local\\Temp/ipykernel_16156/1375107663.py:2: FutureWarning: Dropping of nuisance columns in DataFrame reductions (with 'numeric_only=None') is deprecated; in a future version this will raise TypeError.  Select only valid columns before calling the reduction.\n",
      "  avgUser = data.mean(axis='columns')\n"
     ]
    },
    {
     "data": {
      "text/plain": [
       "0    4.375\n",
       "1    4.750\n",
       "2    4.125\n",
       "3    4.625\n",
       "4    4.375\n",
       "dtype: float64"
      ]
     },
     "execution_count": 3,
     "metadata": {},
     "output_type": "execute_result"
    }
   ],
   "source": [
    "#Calculation average rating for all the users\n",
    "avgUser = data.mean(axis='columns')\n",
    "avgUser\n"
   ]
  },
  {
   "cell_type": "code",
   "execution_count": 4,
   "id": "29e5fcaf",
   "metadata": {},
   "outputs": [
    {
     "data": {
      "text/html": [
       "<div>\n",
       "<style scoped>\n",
       "    .dataframe tbody tr th:only-of-type {\n",
       "        vertical-align: middle;\n",
       "    }\n",
       "\n",
       "    .dataframe tbody tr th {\n",
       "        vertical-align: top;\n",
       "    }\n",
       "\n",
       "    .dataframe thead th {\n",
       "        text-align: right;\n",
       "    }\n",
       "</style>\n",
       "<table border=\"1\" class=\"dataframe\">\n",
       "  <thead>\n",
       "    <tr style=\"text-align: right;\">\n",
       "      <th></th>\n",
       "      <th>Spider-Man: No Way Home</th>\n",
       "      <th>Black Widow</th>\n",
       "      <th>No Time to Die</th>\n",
       "      <th>Dune</th>\n",
       "      <th>Candyman</th>\n",
       "    </tr>\n",
       "  </thead>\n",
       "  <tbody>\n",
       "    <tr>\n",
       "      <th>0</th>\n",
       "      <td>0.0</td>\n",
       "      <td>NaN</td>\n",
       "      <td>0.166667</td>\n",
       "      <td>-0.5</td>\n",
       "      <td>0.0</td>\n",
       "    </tr>\n",
       "    <tr>\n",
       "      <th>1</th>\n",
       "      <td>0.5</td>\n",
       "      <td>0.0</td>\n",
       "      <td>NaN</td>\n",
       "      <td>0.5</td>\n",
       "      <td>0.0</td>\n",
       "    </tr>\n",
       "    <tr>\n",
       "      <th>2</th>\n",
       "      <td>-0.5</td>\n",
       "      <td>-0.5</td>\n",
       "      <td>-0.500000</td>\n",
       "      <td>NaN</td>\n",
       "      <td>0.5</td>\n",
       "    </tr>\n",
       "    <tr>\n",
       "      <th>3</th>\n",
       "      <td>NaN</td>\n",
       "      <td>0.5</td>\n",
       "      <td>0.500000</td>\n",
       "      <td>0.0</td>\n",
       "      <td>-0.5</td>\n",
       "    </tr>\n",
       "    <tr>\n",
       "      <th>4</th>\n",
       "      <td>0.0</td>\n",
       "      <td>0.0</td>\n",
       "      <td>-0.166667</td>\n",
       "      <td>0.0</td>\n",
       "      <td>NaN</td>\n",
       "    </tr>\n",
       "  </tbody>\n",
       "</table>\n",
       "</div>"
      ],
      "text/plain": [
       "   Spider-Man: No Way Home  Black Widow  No Time to Die  Dune  Candyman\n",
       "0                      0.0          NaN        0.166667  -0.5       0.0\n",
       "1                      0.5          0.0             NaN   0.5       0.0\n",
       "2                     -0.5         -0.5       -0.500000   NaN       0.5\n",
       "3                      NaN          0.5        0.500000   0.0      -0.5\n",
       "4                      0.0          0.0       -0.166667   0.0       NaN"
      ]
     },
     "execution_count": 4,
     "metadata": {},
     "output_type": "execute_result"
    }
   ],
   "source": [
    "#Data normalization\n",
    "\n",
    "normal = lambda x: (x - np.mean(x)) / (np.max(x) - np.min(x))\n",
    "\n",
    "normalized = data.copy()\n",
    "\n",
    "columns_normal = [\"Spider-Man: No Way Home\", \"Black Widow\", \"No Time to Die\", \"Dune\", \"Candyman\"]\n",
    "normalized = normalized[columns_normal].apply(normal)\n",
    "normalized"
   ]
  },
  {
   "cell_type": "code",
   "execution_count": 5,
   "id": "031591dd",
   "metadata": {},
   "outputs": [
    {
     "data": {
      "text/plain": [
       "Spider-Man: No Way Home    0.000000e+00\n",
       "Black Widow                0.000000e+00\n",
       "No Time to Die            -6.938894e-18\n",
       "Dune                       0.000000e+00\n",
       "Candyman                   0.000000e+00\n",
       "dtype: float64"
      ]
     },
     "execution_count": 5,
     "metadata": {},
     "output_type": "execute_result"
    }
   ],
   "source": [
    "#Calculation average rating for all the movies after data normalization\n",
    "avgMovie = normalized.mean(axis='index')\n",
    "avgMovie"
   ]
  },
  {
   "cell_type": "code",
   "execution_count": 6,
   "id": "21b84bdf",
   "metadata": {},
   "outputs": [
    {
     "data": {
      "text/plain": [
       "0   -0.083333\n",
       "1    0.250000\n",
       "2   -0.250000\n",
       "3    0.125000\n",
       "4   -0.041667\n",
       "dtype: float64"
      ]
     },
     "execution_count": 6,
     "metadata": {},
     "output_type": "execute_result"
    }
   ],
   "source": [
    "#Calculation average rating for all the users after data normalization\n",
    "avgUser = normalized.mean(axis='columns')\n",
    "avgUser"
   ]
  },
  {
   "cell_type": "code",
   "execution_count": 7,
   "id": "e831a260",
   "metadata": {},
   "outputs": [
    {
     "data": {
      "text/html": [
       "<div>\n",
       "<style scoped>\n",
       "    .dataframe tbody tr th:only-of-type {\n",
       "        vertical-align: middle;\n",
       "    }\n",
       "\n",
       "    .dataframe tbody tr th {\n",
       "        vertical-align: top;\n",
       "    }\n",
       "\n",
       "    .dataframe thead th {\n",
       "        text-align: right;\n",
       "    }\n",
       "</style>\n",
       "<table border=\"1\" class=\"dataframe\">\n",
       "  <thead>\n",
       "    <tr style=\"text-align: right;\">\n",
       "      <th></th>\n",
       "      <th>Spider-Man: No Way Home</th>\n",
       "      <th>Black Widow</th>\n",
       "      <th>No Time to Die</th>\n",
       "      <th>Dune</th>\n",
       "      <th>Candyman</th>\n",
       "    </tr>\n",
       "  </thead>\n",
       "  <tbody>\n",
       "    <tr>\n",
       "      <th>0</th>\n",
       "      <td>0.000000</td>\n",
       "      <td>NaN</td>\n",
       "      <td>0.387298</td>\n",
       "      <td>-1.224745</td>\n",
       "      <td>0.000000</td>\n",
       "    </tr>\n",
       "    <tr>\n",
       "      <th>1</th>\n",
       "      <td>1.224745</td>\n",
       "      <td>0.000000</td>\n",
       "      <td>NaN</td>\n",
       "      <td>1.224745</td>\n",
       "      <td>0.000000</td>\n",
       "    </tr>\n",
       "    <tr>\n",
       "      <th>2</th>\n",
       "      <td>-1.224745</td>\n",
       "      <td>-1.224745</td>\n",
       "      <td>-1.161895</td>\n",
       "      <td>NaN</td>\n",
       "      <td>1.224745</td>\n",
       "    </tr>\n",
       "    <tr>\n",
       "      <th>3</th>\n",
       "      <td>NaN</td>\n",
       "      <td>1.224745</td>\n",
       "      <td>1.161895</td>\n",
       "      <td>0.000000</td>\n",
       "      <td>-1.224745</td>\n",
       "    </tr>\n",
       "    <tr>\n",
       "      <th>4</th>\n",
       "      <td>0.000000</td>\n",
       "      <td>0.000000</td>\n",
       "      <td>-0.387298</td>\n",
       "      <td>0.000000</td>\n",
       "      <td>NaN</td>\n",
       "    </tr>\n",
       "  </tbody>\n",
       "</table>\n",
       "</div>"
      ],
      "text/plain": [
       "   Spider-Man: No Way Home  Black Widow  No Time to Die      Dune  Candyman\n",
       "0                 0.000000          NaN        0.387298 -1.224745  0.000000\n",
       "1                 1.224745     0.000000             NaN  1.224745  0.000000\n",
       "2                -1.224745    -1.224745       -1.161895       NaN  1.224745\n",
       "3                      NaN     1.224745        1.161895  0.000000 -1.224745\n",
       "4                 0.000000     0.000000       -0.387298  0.000000       NaN"
      ]
     },
     "execution_count": 7,
     "metadata": {},
     "output_type": "execute_result"
    }
   ],
   "source": [
    "#Data standardization\n",
    "\n",
    "standard = lambda x: (x-x.mean()) / x.std()\n",
    "\n",
    "standardized = normalized[columns_normal].apply(standard)\n",
    "standardized"
   ]
  },
  {
   "cell_type": "code",
   "execution_count": 8,
   "id": "c7c98862",
   "metadata": {},
   "outputs": [
    {
     "data": {
      "text/plain": [
       "0   -0.209362\n",
       "1    0.612372\n",
       "2   -0.596660\n",
       "3    0.290474\n",
       "4   -0.096825\n",
       "dtype: float64"
      ]
     },
     "execution_count": 8,
     "metadata": {},
     "output_type": "execute_result"
    }
   ],
   "source": [
    "#Calculation average rating for all the users after data standardization\n",
    "avgUser = standardized.mean(axis='columns')\n",
    "avgUser"
   ]
  },
  {
   "cell_type": "code",
   "execution_count": 9,
   "id": "0d650031",
   "metadata": {},
   "outputs": [
    {
     "data": {
      "text/plain": [
       "Spider-Man: No Way Home    0.000000e+00\n",
       "Black Widow                0.000000e+00\n",
       "No Time to Die             1.387779e-17\n",
       "Dune                       0.000000e+00\n",
       "Candyman                   0.000000e+00\n",
       "dtype: float64"
      ]
     },
     "execution_count": 9,
     "metadata": {},
     "output_type": "execute_result"
    }
   ],
   "source": [
    "#Calculation average rating for all the movies after data standardization\n",
    "avgMovie = standardized.mean(axis='index')\n",
    "avgMovie"
   ]
  },
  {
   "cell_type": "code",
   "execution_count": null,
   "id": "9cce06b1",
   "metadata": {},
   "outputs": [],
   "source": []
  }
 ],
 "metadata": {
  "kernelspec": {
   "display_name": "Python 3 (ipykernel)",
   "language": "python",
   "name": "python3"
  },
  "language_info": {
   "codemirror_mode": {
    "name": "ipython",
    "version": 3
   },
   "file_extension": ".py",
   "mimetype": "text/x-python",
   "name": "python",
   "nbconvert_exporter": "python",
   "pygments_lexer": "ipython3",
   "version": "3.8.12"
  }
 },
 "nbformat": 4,
 "nbformat_minor": 5
}
